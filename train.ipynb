{
  "cells": [
    {
      "cell_type": "markdown",
      "metadata": {
        "id": "wYsNYbsLIEPc"
      },
      "source": [
        "# preprocessing\n"
      ]
    },
    {
      "cell_type": "markdown",
      "metadata": {
        "id": "DmfnoCp6qtjO"
      },
      "source": [
        "## imports"
      ]
    },
    {
      "cell_type": "code",
      "execution_count": 2,
      "metadata": {
        "id": "f26L4pHarBEY"
      },
      "outputs": [],
      "source": [
        "import pandas as pd\n",
        "import numpy as np\n",
        "\n",
        "import re\n",
        "import random\n",
        "from  itertools import chain\n",
        "\n",
        "import joblib\n",
        "\n",
        "import nlpaug.augmenter.char as nac\n",
        "import nlpaug.augmenter.word as naw\n",
        "\n",
        "\n",
        "\n",
        "from sklearn.feature_extraction.text import TfidfVectorizer\n",
        "from sklearn.preprocessing import LabelEncoder\n",
        "\n",
        "from sklearn.model_selection import train_test_split, GridSearchCV\n",
        "\n",
        "from sklearn.svm import SVC\n",
        "from sklearn.linear_model import LogisticRegression, SGDClassifier\n",
        "from sklearn.ensemble import StackingClassifier, VotingClassifier, GradientBoostingClassifier\n",
        "\n",
        "from sklearn.metrics import accuracy_score, roc_auc_score, f1_score"
      ]
    },
    {
      "cell_type": "markdown",
      "metadata": {
        "id": "zB3KcKZOITgH"
      },
      "source": [
        "## creating csv\n"
      ]
    },
    {
      "cell_type": "code",
      "execution_count": 13,
      "metadata": {
        "id": "2MC1P_TnIbIW"
      },
      "outputs": [],
      "source": [
        "dict_2 = {\n",
        "          'Ставка': [ 'ставк', 'процент', 'доля'],\n",
        "\n",
        "          'ПВ': [ 'первый', 'взнос', 'начальный', 'первоначальный', 'платеж', 'выплата', 'плата', 'стартовый']\n",
        "}\n",
        "\n",
        "\n",
        "\n",
        "\n",
        "dict_4 = {\n",
        "        'Новостройки': ['для нового жилья', 'кредит на новую квартиру' ,'ипотечный кредит новостройка',\n",
        "                      'ипотека новый дом', 'ипотека строящийся дом', 'ипотека новостройка',\n",
        "                      'ипотека новостройка ' ,'ипотека на новую квартиру',],\n",
        "        \n",
        "        'Вторичное жильё': ['ипотека на вторичное жилье в москве','ипотека для квартиры в старом доме', 'ипотека старая квартира',\n",
        "                          'кредит старая квартира', 'ипотека бу дом', 'ипотека б/у дом', 'ипотека бу дом', 'ипотека бу квартира',\n",
        "                          'ипотека бу квартира', \t'ипотека на бывшую в употреблении квартиру',\n",
        "                          'ипотека для бывший в употреблении дом ' ], \n",
        "        \n",
        "        'Семейная ипотека': ['ипотечный кредит для семьи', 'семейный ипотечный кредит',\n",
        "                          'ипотека для большой семьи','по ипотеке для семьи',' семейная ипотека',# \n",
        "                          'ипотека для семей с детьми', 'ипотека для молодой семьи',],\n",
        "      \n",
        "        \n",
        "        'Ипотека с господдержкой': ['ипотека с господдержкой', 'льготная ипотека','ипотека государственная поддержка',\n",
        "                                ' по ипотеке с государственной поддержкой','ипотека с государственной поддержкой',\n",
        "                                'ипотечный кредит с государственной поддержкой', 'кредит на жилье с государственной поддержкой', \n",
        "                                'кредит на жилье льготный', 'кредит на жилье с господдержкой ', ]\n",
        "}\n",
        "\n",
        "def key_by_val(x, dict_ = dict_4): # поиск ключа по значению\n",
        "  for k, v in dict_.items():\n",
        "    if x in v:\n",
        "        return k\n",
        "\n",
        "df = pd.DataFrame(list(chain.from_iterable(dict_4.values())), columns = ['quests'])\n",
        "df['cats'] = df['quests'].apply(key_by_val)\n",
        "\n",
        "list_of_cats2 = list(chain.from_iterable(dict_2.values()))\n",
        "temp_df = df.copy()\n",
        "\n",
        "for i in list_of_cats2:\n",
        "  s = temp_df['quests'] + ' ' + i\n",
        "  df = df.append(pd.concat([s, temp_df['cats']], axis=1))\n",
        "  # добавление ключевых слов к каждой строке чтобы они меньше влияли на модель\n",
        "\n",
        "df.reset_index(inplace=True, drop=True)"
      ]
    },
    {
      "cell_type": "code",
      "execution_count": 14,
      "metadata": {
        "colab": {
          "base_uri": "https://localhost:8080/"
        },
        "id": "Pvin-e1XGmud",
        "outputId": "05702cbb-5c27-4b36-d533-588bc13c5c63"
      },
      "outputs": [
        {
          "data": {
            "text/plain": [
              "(420, 2)"
            ]
          },
          "execution_count": 14,
          "metadata": {},
          "output_type": "execute_result"
        }
      ],
      "source": [
        "df.shape"
      ]
    },
    {
      "cell_type": "markdown",
      "metadata": {
        "id": "Wyy6EwF8U-WN"
      },
      "source": [
        "## augmentation\n"
      ]
    },
    {
      "cell_type": "markdown",
      "metadata": {
        "id": "OLC6QfqVAYx9"
      },
      "source": [
        "Двойной перевод был убран из-за слишком долгого времени выполнения, изначально была еще символьная аугментация, она лишь расширяла словарь и ухудшала результат\n"
      ]
    },
    {
      "cell_type": "code",
      "execution_count": 16,
      "metadata": {
        "id": "6igQRc6yiywn"
      },
      "outputs": [],
      "source": [
        "context_emb_aug = naw.ContextualWordEmbsAug(model_path='bert-base-multilingual-uncased', top_k=15, aug_p=0.05, stopwords=['б/у', 'бу'], aug_max = 2, batch_size=16)\n",
        "\n",
        "# dt_aug = naw.back_translation.BackTranslationAug(from_model_name='Helsinki-NLP/opus-mt-ru-fr', to_model_name='Helsinki-NLP/opus-mt-fr-ru', batch_size=16)\n",
        "\n",
        "emb_aug = naw.ContextualWordEmbsAug(model_path='bert-base-multilingual-uncased', top_k=15, aug_p=0.05, stopwords=['б/у', 'бу'], aug_max = 2, batch_size=16)\n",
        "\n",
        "\n",
        "aug_list_text = [context_emb_aug, emb_aug, emb_aug]\n",
        "\n",
        "\n",
        "\n",
        "\n",
        "for i in aug_list_text:\n",
        "  df_ = df.copy()\n",
        "  df_['quests'] = df.quests.apply(lambda x: i.augment(x)[0])\n",
        "  df = df.append(df_, ignore_index=True).drop_duplicates(['quests'])\n"
      ]
    },
    {
      "cell_type": "code",
      "execution_count": 21,
      "metadata": {
        "colab": {
          "base_uri": "https://localhost:8080/",
          "height": 363
        },
        "id": "KJUa5ViK4v4O",
        "outputId": "4ff8bf5f-b670-4667-8c07-a554b6959dc6"
      },
      "outputs": [
        {
          "data": {
            "text/html": [
              "<div>\n",
              "<style scoped>\n",
              "    .dataframe tbody tr th:only-of-type {\n",
              "        vertical-align: middle;\n",
              "    }\n",
              "\n",
              "    .dataframe tbody tr th {\n",
              "        vertical-align: top;\n",
              "    }\n",
              "\n",
              "    .dataframe thead th {\n",
              "        text-align: right;\n",
              "    }\n",
              "</style>\n",
              "<table border=\"1\" class=\"dataframe\">\n",
              "  <thead>\n",
              "    <tr style=\"text-align: right;\">\n",
              "      <th></th>\n",
              "      <th>quests</th>\n",
              "      <th>cats</th>\n",
              "    </tr>\n",
              "  </thead>\n",
              "  <tbody>\n",
              "    <tr>\n",
              "      <th>1993</th>\n",
              "      <td>лес или жилье льготныи доля</td>\n",
              "      <td>Ипотека с господдержкой</td>\n",
              "    </tr>\n",
              "    <tr>\n",
              "      <th>814</th>\n",
              "      <td>кредит на языке льготныи</td>\n",
              "      <td>Ипотека с господдержкой</td>\n",
              "    </tr>\n",
              "    <tr>\n",
              "      <th>1325</th>\n",
              "      <td>дом бу кв первоначальныи</td>\n",
              "      <td>Вторичное жильё</td>\n",
              "    </tr>\n",
              "    <tr>\n",
              "      <th>729</th>\n",
              "      <td>ипотека на новую эпоху плата</td>\n",
              "      <td>Новостройки</td>\n",
              "    </tr>\n",
              "    <tr>\n",
              "      <th>1212</th>\n",
              "      <td>кеп бу кв доля</td>\n",
              "      <td>Вторичное жильё</td>\n",
              "    </tr>\n",
              "    <tr>\n",
              "      <th>1619</th>\n",
              "      <td>ипотека с петр первыи</td>\n",
              "      <td>Ипотека с господдержкой</td>\n",
              "    </tr>\n",
              "    <tr>\n",
              "      <th>780</th>\n",
              "      <td>по ипотеке с научнои поддержкои стартовыи</td>\n",
              "      <td>Ипотека с господдержкой</td>\n",
              "    </tr>\n",
              "    <tr>\n",
              "      <th>2545</th>\n",
              "      <td>ипотека все квартиры во старом доме стартовыи</td>\n",
              "      <td>Вторичное жильё</td>\n",
              "    </tr>\n",
              "    <tr>\n",
              "      <th>1408</th>\n",
              "      <td>за плата</td>\n",
              "      <td>Новостройки</td>\n",
              "    </tr>\n",
              "    <tr>\n",
              "      <th>2681</th>\n",
              "      <td>доля  доля</td>\n",
              "      <td>Семейная ипотека</td>\n",
              "    </tr>\n",
              "  </tbody>\n",
              "</table>\n",
              "</div>"
            ],
            "text/plain": [
              "                                             quests                     cats\n",
              "1993                    лес или жилье льготныи доля  Ипотека с господдержкой\n",
              "814                        кредит на языке льготныи  Ипотека с господдержкой\n",
              "1325                       дом бу кв первоначальныи          Вторичное жильё\n",
              "729                    ипотека на новую эпоху плата              Новостройки\n",
              "1212                                 кеп бу кв доля          Вторичное жильё\n",
              "1619                          ипотека с петр первыи  Ипотека с господдержкой\n",
              "780       по ипотеке с научнои поддержкои стартовыи  Ипотека с господдержкой\n",
              "2545  ипотека все квартиры во старом доме стартовыи          Вторичное жильё\n",
              "1408                                       за плата              Новостройки\n",
              "2681                                     доля  доля         Семейная ипотека"
            ]
          },
          "execution_count": 21,
          "metadata": {},
          "output_type": "execute_result"
        }
      ],
      "source": [
        "df.sample(10)"
      ]
    },
    {
      "cell_type": "code",
      "execution_count": 17,
      "metadata": {
        "colab": {
          "base_uri": "https://localhost:8080/"
        },
        "id": "lCta_d4-zcCi",
        "outputId": "682844e1-9a73-4229-f0b2-7dac21f4af28"
      },
      "outputs": [
        {
          "data": {
            "text/plain": [
              "(2758, 2)"
            ]
          },
          "execution_count": 17,
          "metadata": {},
          "output_type": "execute_result"
        }
      ],
      "source": [
        "df.shape"
      ]
    },
    {
      "cell_type": "code",
      "execution_count": 18,
      "metadata": {
        "id": "UJCYT87ve42Z"
      },
      "outputs": [],
      "source": [
        "df.to_csv('data/preprocessed_full_no_char_aug.csv')\n"
      ]
    },
    {
      "cell_type": "markdown",
      "metadata": {
        "id": "E4aJfkFOdbaR"
      },
      "source": [
        "## encoding"
      ]
    },
    {
      "cell_type": "code",
      "execution_count": 13,
      "metadata": {
        "id": "RZVoppnhpidC"
      },
      "outputs": [],
      "source": [
        "df = pd.read_csv('data/preprocessed_full_no_char_aug.csv',  index_col=[0])\n",
        "\n",
        "\n",
        "encoder = LabelEncoder()\n",
        "y = encoder.fit_transform(df['cats'])\n",
        "\n",
        "df['quests'] = df.quests.apply(lambda x: re.sub(r'([^А-Яа-я\\s]+)','', x))\n",
        "vectorizer = TfidfVectorizer()\n",
        "X = vectorizer.fit_transform(df['quests'])\n",
        "\n",
        "X_train, X_test, y_train, y_test = train_test_split(X, y, stratify=y)"
      ]
    },
    {
      "cell_type": "markdown",
      "metadata": {
        "id": "pkpc2dPldT1t"
      },
      "source": [
        "# training"
      ]
    },
    {
      "cell_type": "markdown",
      "metadata": {
        "id": "ewpryvk-ELPK"
      },
      "source": [
        "### models"
      ]
    },
    {
      "cell_type": "code",
      "execution_count": 14,
      "metadata": {
        "colab": {
          "base_uri": "https://localhost:8080/"
        },
        "id": "kV2BxgBZrr0V",
        "outputId": "02f05271-be08-494b-bd56-1bb7d744458f"
      },
      "outputs": [
        {
          "name": "stdout",
          "output_type": "stream",
          "text": [
            "SVC accuracy: 0.935, f1: 0.935, roc auc:0.99\n",
            "LR accuracy: 0.926, f1: 0.927, roc auc:0.992\n",
            "SGDC accuracy: 0.917, f1: 0.918, roc auc:0.987\n"
          ]
        }
      ],
      "source": [
        "i = 'weighted'\n",
        "a = 'ovr'\n",
        "model_1 = SVC(probability=True)\n",
        "model_2 = LogisticRegression(max_iter=500, solver='saga')\n",
        "model_3 =  SGDClassifier(loss = 'modified_huber')\n",
        "\n",
        "\n",
        "model_1.fit(X_train, y_train)\n",
        "model_2.fit(X_train, y_train)\n",
        "model_3.fit(X_train, y_train)\n",
        "\n",
        "\n",
        "y_pred_1 = model_1.predict(X_test)\n",
        "y_score_1 = model_1.predict_proba(X_test)\n",
        "\n",
        "y_pred_2 = model_2.predict(X_test)\n",
        "y_score_2 = model_2.predict_proba(X_test)\n",
        "\n",
        "y_pred_3 = model_3.predict(X_test)\n",
        "y_score_3 = model_3.predict_proba(X_test)\n",
        "\n",
        "\n",
        "print(f'SVC accuracy: {round(accuracy_score(y_test, y_pred_1), 3)}, f1: {round(f1_score(y_test, y_pred_1, average=i), 3)}, \\\n",
        "roc auc:{round(roc_auc_score(y_test, y_score_1, multi_class = a), 3)}')\n",
        "\n",
        "print(f'LR accuracy: {round(accuracy_score(y_test, y_pred_2), 3)}, f1: {round(f1_score(y_test, y_pred_2, average=i), 3)}, \\\n",
        "roc auc:{round(roc_auc_score(y_test, y_score_2, multi_class = a), 3)}')\n",
        "\n",
        "print(f'SGDC accuracy: {round(accuracy_score(y_test, y_pred_3), 3)}, f1: {round(f1_score(y_test, y_pred_3, average=i), 3)}, \\\n",
        "roc auc:{round(roc_auc_score(y_test, y_score_3, multi_class = a), 3)}')"
      ]
    },
    {
      "cell_type": "markdown",
      "metadata": {
        "id": "yJcX6PeX3Dmr"
      },
      "source": [
        "## gridsearch \n"
      ]
    },
    {
      "cell_type": "code",
      "execution_count": 15,
      "metadata": {
        "colab": {
          "base_uri": "https://localhost:8080/"
        },
        "id": "msb1fJ5u0Lmo",
        "outputId": "7e529a65-156f-4584-f8c7-be992aa93c57"
      },
      "outputs": [
        {
          "data": {
            "text/plain": [
              "GridSearchCV(estimator=SGDClassifier(loss='modified_huber'),\n",
              "             param_grid={'max_iter': [1000, 1500, 2000, 2500, 3000, 3500]},\n",
              "             scoring='f1_macro')"
            ]
          },
          "execution_count": 15,
          "metadata": {},
          "output_type": "execute_result"
        }
      ],
      "source": [
        "#значения выбраны после нескольких тестов близкие к оптимальным значениям\n",
        "params_1 = {\n",
        "    'gamma': ['scale', 'auto'],\n",
        "    'C' : [.5,.7, 1, 2, 3],\n",
        "    }\n",
        "\n",
        "params_3 = {\n",
        "    'max_iter': [1000, 1500, 2000, 2500, 3000, 3500]\n",
        "}\n",
        "\n",
        "cv_1 = GridSearchCV(model_1, param_grid=params_1, scoring= 'f1_macro')\n",
        "cv_3 = GridSearchCV(model_3, param_grid=params_3, scoring='f1_macro')\n",
        "\n",
        "cv_1.fit(X_train, y_train)\n",
        "cv_3.fit(X_train, y_train)"
      ]
    },
    {
      "cell_type": "code",
      "execution_count": 16,
      "metadata": {
        "colab": {
          "base_uri": "https://localhost:8080/"
        },
        "id": "Ji2ATnegXt2I",
        "outputId": "c3b7f22a-fc91-4684-8346-d25c9e686045"
      },
      "outputs": [
        {
          "name": "stdout",
          "output_type": "stream",
          "text": [
            "tunned SVC accuracy: 0.935, f1: 0.935, roc auc:0.99\n",
            "tunned SGDC accuracy: 0.92, f1: 0.92, roc auc:0.986\n"
          ]
        }
      ],
      "source": [
        "model_1 = SVC(probability=True, **cv_1.best_params_)\n",
        "model_3 = SGDClassifier(loss = 'modified_huber', **cv_3.best_params_)\n",
        "\n",
        "model_1.fit(X_train, y_train)\n",
        "model_3.fit(X_train, y_train)\n",
        "\n",
        "y_pred_1 = model_1.predict(X_test)\n",
        "y_score_1 = model_1.predict_proba(X_test)\n",
        "\n",
        "y_pred_3 = model_3.predict(X_test)\n",
        "y_score_3 = model_3.predict_proba(X_test)\n",
        "\n",
        "print(f'tunned SVC accuracy: {round(accuracy_score(y_test, y_pred_1), 3)}, f1: {round(f1_score(y_test, y_pred_1, average=i), 3)}, \\\n",
        "roc auc:{round(roc_auc_score(y_test, y_score_1, multi_class = a), 3)}')\n",
        "\n",
        "print(f'tunned SGDC accuracy: {round(accuracy_score(y_test, y_pred_3), 3)}, f1: {round(f1_score(y_test, y_pred_3, average=i), 3)}, \\\n",
        "roc auc:{round(roc_auc_score(y_test, y_score_3, multi_class = a), 3)}')"
      ]
    },
    {
      "cell_type": "markdown",
      "metadata": {
        "id": "cOpr6Y-h8j8M"
      },
      "source": [
        "## ensembles"
      ]
    },
    {
      "cell_type": "code",
      "execution_count": 17,
      "metadata": {
        "colab": {
          "base_uri": "https://localhost:8080/"
        },
        "id": "y2NJ6VQN44aO",
        "outputId": "50937365-aa02-4f2d-b248-2081f61f3daf"
      },
      "outputs": [
        {
          "name": "stdout",
          "output_type": "stream",
          "text": [
            "Voting accuracy: 0.93, f1: 0.931, roc auc:0.993\n"
          ]
        }
      ],
      "source": [
        "estimators = [('svc' , model_1),\n",
        "              ('lr', model_2),\n",
        "              ('sgd', model_3),\n",
        "              ]\n",
        "              \n",
        "model = VotingClassifier(estimators=estimators, voting='soft')\n",
        "\n",
        "model.fit(X_train, y_train)\n",
        "\n",
        "y_pred = model.predict(X_test)\n",
        "y_score = model.predict_proba(X_test)\n",
        "\n",
        "print(f'Voting accuracy: {round(accuracy_score(y_test, y_pred), 3)}, f1: {round(f1_score(y_test, y_pred, average=i), 3)}, \\\n",
        "roc auc:{round(roc_auc_score(y_test, y_score, multi_class = a), 3)}')"
      ]
    },
    {
      "cell_type": "code",
      "execution_count": 18,
      "metadata": {
        "colab": {
          "base_uri": "https://localhost:8080/"
        },
        "id": "fgb2pbTw-0eC",
        "outputId": "3e079a46-80bd-4cd4-c94d-ae79f149288d"
      },
      "outputs": [
        {
          "name": "stdout",
          "output_type": "stream",
          "text": [
            "Stacking accuracy: 0.935, f1: 0.935, roc auc:0.993\n"
          ]
        }
      ],
      "source": [
        "model = StackingClassifier(estimators=estimators)\n",
        "\n",
        "model.fit(X_train, y_train)\n",
        "\n",
        "y_pred = model.predict(X_test)\n",
        "y_score = model.predict_proba(X_test)\n",
        "\n",
        "print(f'Stacking accuracy: {round(accuracy_score(y_test, y_pred), 3)}, f1: {round(f1_score(y_test, y_pred, average=i), 3)}, \\\n",
        "roc auc:{round(roc_auc_score(y_test, y_score, multi_class = a), 3)}')"
      ]
    },
    {
      "cell_type": "markdown",
      "metadata": {
        "id": "HrrVgAOE_Id5"
      },
      "source": [
        "Наилучшие результаты у svc и stacking моделей, буду использовать первую из-за ее простоты.\n",
        "Какже были опробованы decision tree и random forest, Gradienboosting, но они показали себя значительно хуже линейных моделей, из финальной версии были убраны\n",
        "\n",
        "\n"
      ]
    },
    {
      "cell_type": "markdown",
      "metadata": {
        "id": "CHtIIHRpN_v4"
      },
      "source": [
        "## relearning with full df and model saving \n",
        "\n"
      ]
    },
    {
      "cell_type": "code",
      "execution_count": 20,
      "metadata": {
        "colab": {
          "base_uri": "https://localhost:8080/"
        },
        "id": "2WLZiKO7nAS8",
        "outputId": "87c485be-64cb-43e8-c7d7-d45e16972f23"
      },
      "outputs": [
        {
          "data": {
            "text/plain": [
              "['models/vectorizer.sav']"
            ]
          },
          "execution_count": 20,
          "metadata": {},
          "output_type": "execute_result"
        }
      ],
      "source": [
        "model_1.fit(X, y)\n",
        "\n",
        "\n",
        "joblib.dump(model_1, 'models/model_svc.sav')\n",
        "joblib.dump(encoder, 'models/encoder.sav')\n",
        "joblib.dump(vectorizer, 'models/vectorizer.sav')\n"
      ]
    }
  ],
  "metadata": {
    "accelerator": "TPU",
    "colab": {
      "collapsed_sections": [
        "zB3KcKZOITgH"
      ],
      "name": "sber_nlp_1.ipynb",
      "provenance": []
    },
    "gpuClass": "standard",
    "kernelspec": {
      "display_name": "Python 3",
      "name": "python3"
    },
    "language_info": {
      "codemirror_mode": {
        "name": "ipython",
        "version": 3
      },
      "file_extension": ".py",
      "mimetype": "text/x-python",
      "name": "python",
      "nbconvert_exporter": "python",
      "pygments_lexer": "ipython3",
      "version": "3.9.7"
    }
  },
  "nbformat": 4,
  "nbformat_minor": 0
}
